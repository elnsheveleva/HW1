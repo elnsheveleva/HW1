{
 "cells": [
  {
   "cell_type": "code",
   "execution_count": null,
   "metadata": {},
   "outputs": [],
   "source": [
    "# Задание 1\n",
    "#The Moscow Times - Wednesday, October 2, 2002\n",
    "#The Guardian - Friday, 11.10.13\n",
    "#Daily News - Thursday, 18 August 1977"
   ]
  },
  {
   "cell_type": "code",
   "execution_count": 2,
   "metadata": {},
   "outputs": [],
   "source": [
    "from datetime import datetime"
   ]
  },
  {
   "cell_type": "code",
   "execution_count": 7,
   "metadata": {},
   "outputs": [
    {
     "data": {
      "text/plain": [
       "datetime.datetime(2002, 10, 2, 0, 0)"
      ]
     },
     "execution_count": 7,
     "metadata": {},
     "output_type": "execute_result"
    }
   ],
   "source": [
    "theMoscowTimes = 'Wednesday, October 2, 2002'\n",
    "datetime.strptime(theMoscowTimes, '%A, %B %d, %Y')"
   ]
  },
  {
   "cell_type": "code",
   "execution_count": 10,
   "metadata": {},
   "outputs": [
    {
     "data": {
      "text/plain": [
       "datetime.datetime(2013, 10, 11, 0, 0)"
      ]
     },
     "execution_count": 10,
     "metadata": {},
     "output_type": "execute_result"
    }
   ],
   "source": [
    "theGuardian = 'Friday, 11.10.13'\n",
    "datetime.strptime(theGuardian, '%A, %d.%m.%y')"
   ]
  },
  {
   "cell_type": "code",
   "execution_count": 11,
   "metadata": {},
   "outputs": [
    {
     "data": {
      "text/plain": [
       "datetime.datetime(1977, 8, 18, 0, 0)"
      ]
     },
     "execution_count": 11,
     "metadata": {},
     "output_type": "execute_result"
    }
   ],
   "source": [
    "dailyNews = 'Thursday, 18 August 1977'\n",
    "datetime.strptime(dailyNews, '%A, %d %B %Y')"
   ]
  },
  {
   "cell_type": "code",
   "execution_count": null,
   "metadata": {},
   "outputs": [],
   "source": [
    "# Задание 2"
   ]
  },
  {
   "cell_type": "code",
   "execution_count": 9,
   "metadata": {
    "scrolled": true
   },
   "outputs": [
    {
     "name": "stdout",
     "output_type": "stream",
     "text": [
      "2018-04-02\n",
      "True\n",
      "2018-02-29\n",
      "False\n",
      "2018-19-02\n",
      "False\n"
     ]
    }
   ],
   "source": [
    "from datetime import datetime\n",
    "\n",
    "stream = ['2018-04-02', '2018-02-29', '2018-19-02']\n",
    "date_template = '%Y-%m-%d'\n",
    "\n",
    "def check_date(date_str):\n",
    "    try:\n",
    "        datetime.strptime(date_str, date_template)\n",
    "        return True\n",
    "    except:\n",
    "        return False\n",
    "\n",
    "for date_str in stream:\n",
    "    print(date_str)\n",
    "    print(check_date(date_str))\n"
   ]
  },
  {
   "cell_type": "code",
   "execution_count": null,
   "metadata": {},
   "outputs": [],
   "source": [
    "# Задание 3"
   ]
  },
  {
   "cell_type": "code",
   "execution_count": 24,
   "metadata": {},
   "outputs": [
    {
     "name": "stdout",
     "output_type": "stream",
     "text": [
      "[datetime.datetime(2000, 1, 1, 0, 0), datetime.datetime(2000, 1, 2, 0, 0), datetime.datetime(2000, 1, 3, 0, 0), datetime.datetime(2000, 1, 4, 0, 0), datetime.datetime(2000, 1, 5, 0, 0)]\n",
      "[]\n",
      "[datetime.datetime(2000, 1, 1, 0, 0)]\n",
      "[]\n"
     ]
    }
   ],
   "source": [
    "from datetime import datetime\n",
    "from datetime import timedelta\n",
    "\n",
    "date_template = '%Y-%m-%d'\n",
    "\n",
    "def date_range(start_date_str, end_date_str):\n",
    "    try:\n",
    "        start_date = datetime.strptime(start_date_str, date_template)\n",
    "        end_date = datetime.strptime(end_date_str, date_template)\n",
    "    \n",
    "        if start_date > end_date:\n",
    "            return []\n",
    "        else:\n",
    "            result = []\n",
    "            result.append(start_date)\n",
    "        \n",
    "            while start_date < end_date:\n",
    "                next_date = start_date + timedelta(days=1)\n",
    "                result.append(next_date)\n",
    "                start_date = next_date\n",
    "            return result\n",
    "    except:\n",
    "        return []\n",
    "\n",
    "print(date_range('2000-01-01', '2000-01-05'))\n",
    "print(date_range('2000-01-06', '2000-01-05'))\n",
    "print(date_range('2000-01-01', '2000-01-01'))\n",
    "print(date_range('2000-01-01', '2000-01-89'))\n",
    "        \n",
    "    "
   ]
  },
  {
   "cell_type": "code",
   "execution_count": null,
   "metadata": {},
   "outputs": [],
   "source": []
  }
 ],
 "metadata": {
  "kernelspec": {
   "display_name": "Python 3",
   "language": "python",
   "name": "python3"
  },
  "language_info": {
   "codemirror_mode": {
    "name": "ipython",
    "version": 3
   },
   "file_extension": ".py",
   "mimetype": "text/x-python",
   "name": "python",
   "nbconvert_exporter": "python",
   "pygments_lexer": "ipython3",
   "version": "3.8.5"
  }
 },
 "nbformat": 4,
 "nbformat_minor": 4
}
