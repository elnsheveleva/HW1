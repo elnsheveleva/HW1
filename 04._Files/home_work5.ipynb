{
 "cells": [
  {
   "cell_type": "code",
   "execution_count": 1,
   "metadata": {},
   "outputs": [],
   "source": [
    "import json"
   ]
  },
  {
   "cell_type": "code",
   "execution_count": 3,
   "metadata": {},
   "outputs": [
    {
     "name": "stdout",
     "output_type": "stream",
     "text": [
      "{'1840e0b9d4': 'Продукты', '4e4f90fcfb': 'Электроника', 'afea8d72fc': 'Электроника', '373a6055fe': 'Бытовая техника', '9b2ab046f3': 'Электроника', '9f39d307c3': 'Электроника', '44edeffc91': 'Продукты', '704474fa2d': 'Продукты', '1de31be403': 'Бытовая техника', 'b71f36a5e4': 'Продукты', '79843a685a': 'Продукты', 'ff68cee0d6': 'Бытовая техника', 'e8447c40e2': 'Досуг', '98d290be27': 'Электроника', 'fa0079a5a8': 'Досуг', '22d2f03a17': 'Досуг', '3f8e1ccd3f': 'Электроника', '81a9988b83': 'Электроника', '65f44a2eb7': 'Досуг', '5f8fbb0149': 'Бытовая техника', '3ecff691fd': 'Электроника'}\n"
     ]
    }
   ],
   "source": [
    "purchases = {}\n",
    "i = 0\n",
    "with open('purchase_log.txt', 'r', encoding = 'utf-8') as f:\n",
    "    f.readline()\n",
    "    for line in f:\n",
    "        line = line.strip()\n",
    "        purchases_dict = json.loads(line)\n",
    "        key = purchases_dict['user_id']\n",
    "        value = purchases_dict['category']\n",
    "        purchases.setdefault(key,value)\n",
    "        i += 1\n",
    "        if i > 20:\n",
    "            break\n",
    "            \n",
    "print(purchases)"
   ]
  },
  {
   "cell_type": "code",
   "execution_count": null,
   "metadata": {},
   "outputs": [],
   "source": [
    "# Задание 2"
   ]
  },
  {
   "cell_type": "code",
   "execution_count": 9,
   "metadata": {},
   "outputs": [
    {
     "name": "stdout",
     "output_type": "stream",
     "text": [
      "End\n"
     ]
    }
   ],
   "source": [
    "j = 0\n",
    "\n",
    "def read_purchases():\n",
    "    purchases = {}\n",
    "    with open('purchase_log.txt', 'r', encoding = 'utf-8') as f:\n",
    "        f.readline()\n",
    "        for line in f:\n",
    "            line = line.strip()\n",
    "            purchases_dict = json.loads(line)\n",
    "            key = purchases_dict['user_id']\n",
    "            value = purchases_dict['category']\n",
    "            purchases.setdefault(key,value)\n",
    "        return purchases\n",
    "\n",
    "purchases = read_purchases()\n",
    "\n",
    "with open('funnel.csv', 'w', encoding = 'utf-8') as f:\n",
    "    with open('visit_log.csv', 'r', encoding = 'utf-8') as s:\n",
    "        for line in s:\n",
    "            line = line.strip().split(',')\n",
    "            user_id = line[0]\n",
    "            source = line[1]\n",
    "            if user_id == 'user_id':\n",
    "                f.write('user_id,source,category\\n')\n",
    "            else:    \n",
    "                if user_id in purchases: \n",
    "                    f.write(user_id+','+source+','+purchases[user_id]+'\\n')\n",
    "                    j += 1\n",
    "            if j == 20:\n",
    "                break\n",
    "print('End')\n",
    "    "
   ]
  },
  {
   "cell_type": "code",
   "execution_count": null,
   "metadata": {},
   "outputs": [],
   "source": []
  }
 ],
 "metadata": {
  "kernelspec": {
   "display_name": "Python 3",
   "language": "python",
   "name": "python3"
  },
  "language_info": {
   "codemirror_mode": {
    "name": "ipython",
    "version": 3
   },
   "file_extension": ".py",
   "mimetype": "text/x-python",
   "name": "python",
   "nbconvert_exporter": "python",
   "pygments_lexer": "ipython3",
   "version": "3.8.5"
  }
 },
 "nbformat": 4,
 "nbformat_minor": 4
}
