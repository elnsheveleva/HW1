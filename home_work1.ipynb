{
 "cells": [
  {
   "cell_type": "code",
   "execution_count": null,
   "metadata": {},
   "outputs": [],
   "source": [
    "#Задание 1"
   ]
  },
  {
   "cell_type": "code",
   "execution_count": 4,
   "metadata": {},
   "outputs": [
    {
     "name": "stdout",
     "output_type": "stream",
     "text": [
      "Фраза 1 длиннее фразы 2\n"
     ]
    }
   ],
   "source": [
    "phrase_1 = 'Насколько проще было бы писать программы, если бы не заказчики'\n",
    "phrase_2 = '640Кб должно хватить для любых задач. Билл Гейтс (по легенде)'\n",
    "if len(phrase_1) > len(phrase_2):\n",
    "    print('Фраза 1 длиннее фразы 2')\n",
    "elif len(phrase_1) < len(phrase_2):\n",
    "    print('Фраза 2 длиннее фразы 1')\n",
    "else: \n",
    "    print('Фразы равной длины')"
   ]
  },
  {
   "cell_type": "code",
   "execution_count": 5,
   "metadata": {},
   "outputs": [
    {
     "name": "stdout",
     "output_type": "stream",
     "text": [
      "Фраза 2 длиннее фразы 1\n"
     ]
    }
   ],
   "source": [
    "phrase_1 = '640Кб должно хватить для любых задач. Билл Гейтс (по легенде)'\n",
    "phrase_2 = 'Насколько проще было бы писать программы, если бы не заказчики'\n",
    "if len(phrase_1) > len(phrase_2):\n",
    "    print('Фраза 1 длиннее фразы 2')\n",
    "elif len(phrase_1) < len(phrase_2):\n",
    "    print('Фраза 2 длиннее фразы 1')\n",
    "else: \n",
    "    print('Фразы равной длины')"
   ]
  },
  {
   "cell_type": "code",
   "execution_count": 6,
   "metadata": {},
   "outputs": [
    {
     "name": "stdout",
     "output_type": "stream",
     "text": [
      "Фразы равной длины\n"
     ]
    }
   ],
   "source": [
    "phrase_1 = 'Насколько проще было бы писать программы, если бы не заказчики'\n",
    "phrase_2 = 'Насколько проще было бы писать программы, если бы не заказчики'\n",
    "if len(phrase_1) > len(phrase_2):\n",
    "    print('Фраза 1 длиннее фразы 2')\n",
    "elif len(phrase_1) < len(phrase_2):\n",
    "    print('Фраза 2 длиннее фразы 1')\n",
    "else: \n",
    "    print('Фразы равной длины')"
   ]
  },
  {
   "cell_type": "code",
   "execution_count": null,
   "metadata": {},
   "outputs": [],
   "source": [
    "#Задание 2"
   ]
  },
  {
   "cell_type": "code",
   "execution_count": 19,
   "metadata": {},
   "outputs": [
    {
     "name": "stdout",
     "output_type": "stream",
     "text": [
      "Обычный год\n"
     ]
    }
   ],
   "source": [
    "year = 2021\n",
    "if year % 4 != 0:\n",
    "    print ('Обычный год')\n",
    "elif year % 100 ==0:\n",
    "    if year % 400 ==0:\n",
    "        print ('Високосный год')\n",
    "    else:\n",
    "        print ('Обычный год')\n",
    "else:\n",
    "    print ('Високосный год')"
   ]
  },
  {
   "cell_type": "code",
   "execution_count": null,
   "metadata": {},
   "outputs": [],
   "source": [
    "#Задание 3 Знак зодиака"
   ]
  },
  {
   "cell_type": "code",
   "execution_count": 17,
   "metadata": {},
   "outputs": [
    {
     "name": "stdout",
     "output_type": "stream",
     "text": [
      "Введите день 3\n",
      "Введите месяц 1\n",
      "Ваш знак зодиака: Козерог\n"
     ]
    }
   ],
   "source": [
    "date = int(input('Введите день '))\n",
    "month = int(input('Введите месяц '))\n",
    "if (date >= 21 and date <=31 and month ==3) or (date >= 1 and date <=20 and month ==4):\n",
    "    print ('Ваш знак зодиака: Овен')\n",
    "elif (date >= 21 and date <=30 and month ==4) or (date >= 1 and date <=21 and month ==5):\n",
    "    print ('Ваш знак зодиака: Телец')\n",
    "elif (date >= 22 and date <=31 and month ==5) or (date >= 1 and date <=21 and month ==6):\n",
    "    print ('Ваш знак зодиака: Близнецы')\n",
    "elif (date >= 22 and date <=30 and month ==6) or (date >= 1 and date <=22 and month ==7):\n",
    "    print ('Ваш знак зодиака: Рак')\n",
    "elif (date >= 23 and date <=31 and month ==7) or (date >= 1 and date <=21 and month ==8):\n",
    "    print ('Ваш знак зодиака: Лев')\n",
    "elif (date >= 22 and date <=31 and month ==8) or (date >= 1 and date <=23 and month ==9):\n",
    "    print ('Ваш знак зодиака: Дева')\n",
    "elif (date >= 24 and date <=30 and month ==9) or (date >= 1 and date <=23 and month ==10):\n",
    "    print ('Ваш знак зодиака: Весы')\n",
    "elif (date >= 24 and date <=31 and month ==10) or (date >= 1 and date <=22 and month ==11):\n",
    "    print ('Ваш знак зодиака: Скорпион')\n",
    "elif (date >= 23 and date <=30 and month ==11) or (date >= 1 and date <=22 and month ==12):\n",
    "    print ('Ваш знак зодиака: Стрелец')\n",
    "elif (date >= 23 and date <=31 and month ==12) or (date >= 1 and date <=20 and month ==1):\n",
    "    print ('Ваш знак зодиака: Козерог')\n",
    "elif (date >= 21 and date <=31 and month ==1) or (date >= 1 and date <=19 and month ==2):\n",
    "    print ('Ваш знак зодиака: Водолей')\n",
    "else:\n",
    "    print ('Ваш знак зодиака: Рыбы')"
   ]
  },
  {
   "cell_type": "code",
   "execution_count": null,
   "metadata": {},
   "outputs": [],
   "source": [
    "#Задание 4 Упаковка"
   ]
  },
  {
   "cell_type": "code",
   "execution_count": 12,
   "metadata": {},
   "outputs": [
    {
     "name": "stdout",
     "output_type": "stream",
     "text": [
      "Коробка №1\n"
     ]
    }
   ],
   "source": [
    "width = 14\n",
    "length = 14\n",
    "height = 14\n",
    "if (width < 15 and length < 15 and height < 15):\n",
    "    print ('Коробка №1')\n",
    "elif (15 < width < 50) or (15 < length < 50) or (15 < height < 50):\n",
    "    print ('Коробка №2')\n",
    "elif (length > 200):\n",
    "    print ('Упаковка для лыж')\n",
    "else:\n",
    "    print ('Стандартная коробка №3')"
   ]
  },
  {
   "cell_type": "code",
   "execution_count": null,
   "metadata": {},
   "outputs": [],
   "source": [
    "#Задание 5 Счастливый билет"
   ]
  },
  {
   "cell_type": "code",
   "execution_count": 1,
   "metadata": {},
   "outputs": [
    {
     "name": "stdout",
     "output_type": "stream",
     "text": [
      "Введите номер билета 123321\n",
      "Счастливый билет\n"
     ]
    }
   ],
   "source": [
    "a = str (input ('Введите номер билета '))\n",
    "s1 = int (a[0]) + int (a[1]) + int (a[2])\n",
    "s2 = int (a[3]) + int (a[4]) + int (a[5])\n",
    "if s1 == s2:\n",
    "    print ('Счастливый билет')\n",
    "else:\n",
    "    print ('Несчастливый билет')\n"
   ]
  },
  {
   "cell_type": "code",
   "execution_count": null,
   "metadata": {},
   "outputs": [],
   "source": [
    "# Задание 6 Площадь фигуры"
   ]
  },
  {
   "cell_type": "code",
   "execution_count": 5,
   "metadata": {},
   "outputs": [
    {
     "name": "stdout",
     "output_type": "stream",
     "text": [
      "Введите тип фигуры: Круг\n",
      "Введите радиус круга r = 10\n",
      "314.1592653589793\n"
     ]
    }
   ],
   "source": [
    "import math\n",
    "name = str (input ('Введите тип фигуры: '))\n",
    "if name == 'Круг':\n",
    "    r = float (input ('Введите радиус круга r = '))\n",
    "    s = (r**2) * math.pi\n",
    "elif name == 'Треугольник':\n",
    "    a = float (input ('Введите длину стороны А: '))\n",
    "    b = float (input ('Введите длину стороны B: '))\n",
    "    c = float (input ('Введите длину стороны C: '))\n",
    "    p = (a + b + c)/ 2\n",
    "    s = math.sqrt (p*(p-a)*(p-b)*(p-c))\n",
    "elif name == 'Прямоугольник':\n",
    "    a = float (input ('Введите длину стороны А:'))\n",
    "    b = float (input ('Введите длину стороны B:'))\n",
    "    s = a * b\n",
    "else:\n",
    "    s = str ('нет данных')\n",
    "print (s)\n",
    "    "
   ]
  },
  {
   "cell_type": "code",
   "execution_count": null,
   "metadata": {},
   "outputs": [],
   "source": []
  }
 ],
 "metadata": {
  "kernelspec": {
   "display_name": "Python 3",
   "language": "python",
   "name": "python3"
  },
  "language_info": {
   "codemirror_mode": {
    "name": "ipython",
    "version": 3
   },
   "file_extension": ".py",
   "mimetype": "text/x-python",
   "name": "python",
   "nbconvert_exporter": "python",
   "pygments_lexer": "ipython3",
   "version": "3.8.5"
  }
 },
 "nbformat": 4,
 "nbformat_minor": 4
}
